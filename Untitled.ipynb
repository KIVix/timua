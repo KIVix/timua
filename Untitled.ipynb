{
 "cells": [
  {
   "cell_type": "markdown",
   "metadata": {},
   "source": [
    "$$ t= \\frac{\\bar{x}-a}{s_{x}/\\sqrt{n}}$$"
   ]
  },
  {
   "cell_type": "markdown",
   "metadata": {},
   "source": [
    "# Задание 1\n",
    "1. Для каждого маршрута трамвая и троллейбуса в каждом месяце за год\n",
    "имеются следующие исходные данные: количество пассажиров.\n",
    "2. Для каждого маршрута, используя критерий Стьюдента (7.1), принять или\n",
    "опровергнуть гипотезу о равенстве средних значений для анализируемой\n",
    "величины по месяцам: количество пассажиров.\n",
    "3. Выдвигается гипотеза $H_{0}:\\mu = a$ против $H_{1}: \\mu \\neq a$, где $а$ – среднее\n",
    "за 3 месяца (сезон); $\\bar{x}$ – среднее за месяц; $s_{x}$ – выборочное стандартное\n",
    "отклонение за месяц; $n$ – количество дней в месяце. Уровень значимости\n",
    "$\\alpha=0,05$.\n",
    "4. Рассчитать доверительный интервал (7.2) для принятой гипотезы.\n",
    "5. Проанализировать результаты, выделить маршруты, для которых нулевая\n",
    "гипотеза не принята. Предположить причину этих выводов"
   ]
  },
  {
   "cell_type": "markdown",
   "metadata": {},
   "source": [
    "Преамбула, для подготовки данных. \n",
    "\n",
    "Используемые комманды\n",
    "1. [Стандартное отклонение](https://docs.scipy.org/doc/numpy/reference/generated/numpy.std.html)\n",
    "Комманда из Exsel =СТАНДОТКЛОН.В(A:A)\n"
   ]
  },
  {
   "cell_type": "code",
   "execution_count": 23,
   "metadata": {},
   "outputs": [],
   "source": [
    "# Подключение необходимых пакетов\n",
    "import pandas as pd\n",
    "import numpy as np\n",
    "import matplotlib as mpl\n",
    "import matplotlib.pyplot as plt\n",
    "\n",
    "from scipy import stats\n",
    "import math"
   ]
  },
  {
   "cell_type": "code",
   "execution_count": 24,
   "metadata": {},
   "outputs": [],
   "source": [
    "# Данные для троллейбуса\n",
    "xl = pd.ExcelFile(\"vir_2018_tl.xlsx\")\n",
    "\n",
    "dfs = {sheet: xl.parse(sheet) for sheet in xl.sheet_names}"
   ]
  },
  {
   "cell_type": "markdown",
   "metadata": {},
   "source": [
    "Пример расчета критерия студента для первого сезона.\n",
    "Сезоном считались месяца с Января по Февраль, в дальнейшем будет исправленною "
   ]
  },
  {
   "cell_type": "code",
   "execution_count": 25,
   "metadata": {},
   "outputs": [
    {
     "name": "stdout",
     "output_type": "stream",
     "text": [
      "Расчетное 1.9614412892058066\n",
      "Фактическое 0.0999209357186659\n",
      "H0 Принимается\n"
     ]
    }
   ],
   "source": [
    "marshut = 11\n",
    "\n",
    "#\n",
    "samlpe = pd.concat([dfs['vir_01_2018_tl'],\n",
    "                    dfs['vir_02_2018_tl'],\n",
    "                    dfs['vir_03_2018_tl'],\n",
    "                    ])\n",
    "# Распределение Стьюдента\n",
    "alfa=0.05              # уровень значимости\n",
    "n=samlpe.MARSHRUT.size-1 # число степеней свободы\n",
    "t=stats.t(n)\n",
    "tcr=t.ppf(1-alfa/2)\n",
    "print('Расчетное', tcr)\n",
    "\n",
    "\n",
    "# Расчет T для первого месяца\n",
    "\n",
    "# Подготовка данных для формулы (7.1)\n",
    "dfT = dfs['vir_01_2018_tl']\n",
    "dfT =dfT[dfT.MARSHRUT == marshut]\n",
    "\n",
    "mean = dfT['KOLPASS'].mean()# Среднее\n",
    "std = np.std(dfT['KOLPASS']) # Средне квадратичное\n",
    "nT = dfT['KOLPASS'].size # Размерер\n",
    "\n",
    "yDf = pd.concat([dfs['vir_01_2018_tl'],\n",
    "                 dfs['vir_02_2018_tl'],\n",
    "                 dfs['vir_03_2018_tl'],\n",
    "                 dfs['vir_04_2018_tl'],\n",
    "                 dfs['vir_05_2018_tl'],\n",
    "                 dfs['vir_06_2018_tl'],\n",
    "                 dfs['vir_07_2018_tl'],\n",
    "                 dfs['vir_08_2018_tl'],\n",
    "                 dfs['vir_09_2018_tl'],\n",
    "                 dfs['vir_10_2018_tl'],\n",
    "                 dfs['vir_11_2018_tl'],\n",
    "                 dfs['vir_12_2018_tl'],]\n",
    "                , axis=0)\n",
    "yDf = yDf[yDf['MARSHRUT'] == marshut]\n",
    "a = yDf['KOLPASS'].mean() # Расчет средного по все машрутам\n",
    "t = abs((mean - a ) / (std * math.sqrt(nT))) # формула 7.1 \n",
    "\n",
    "print('Фактическое',t)\n",
    "\n",
    "if t < tcr:\n",
    "    print(\"H0 Принимается\")\n",
    "else:\n",
    "    print(\"Не Принимается\")\n"
   ]
  },
  {
   "cell_type": "markdown",
   "metadata": {},
   "source": []
  },
  {
   "cell_type": "code",
   "execution_count": null,
   "metadata": {},
   "outputs": [],
   "source": []
  },
  {
   "cell_type": "markdown",
   "metadata": {},
   "source": []
  },
  {
   "cell_type": "code",
   "execution_count": null,
   "metadata": {},
   "outputs": [],
   "source": []
  }
 ],
 "metadata": {
  "kernelspec": {
   "display_name": "Python 3",
   "language": "python",
   "name": "python3"
  },
  "language_info": {
   "codemirror_mode": {
    "name": "ipython",
    "version": 3
   },
   "file_extension": ".py",
   "mimetype": "text/x-python",
   "name": "python",
   "nbconvert_exporter": "python",
   "pygments_lexer": "ipython3",
   "version": "3.7.3"
  }
 },
 "nbformat": 4,
 "nbformat_minor": 2
}
